{
 "cells": [
  {
   "cell_type": "raw",
   "id": "51897915",
   "metadata": {},
   "source": [
    " Q1      What exactly is the difference between descriptive and inferential statistics?\n",
    " \n",
    " Answer : Descriptive stat_ Consist of organizing and syummerising data. \n",
    "         Inferntial stat_ consist of using data you have measured to form conclusion or interfernces"
   ]
  },
  {
   "cell_type": "raw",
   "id": "8a0cd738",
   "metadata": {},
   "source": [
    "    "
   ]
  },
  {
   "cell_type": "raw",
   "id": "b07e6981",
   "metadata": {},
   "source": [
    "Q2      I'm not sure what is the difference between a sample and a population?\n",
    "\n",
    "Answer  : Example- Average height of the people of india is the population  and the group you are interested in study is     sample.\n",
    "          Example - Exit poll result ( we do not ask each person for his or her opinion however we just ask certain amount of people )"
   ]
  },
  {
   "cell_type": "code",
   "execution_count": null,
   "id": "f8af92c4",
   "metadata": {},
   "outputs": [],
   "source": []
  },
  {
   "cell_type": "code",
   "execution_count": null,
   "id": "c7840145",
   "metadata": {},
   "outputs": [],
   "source": [
    "Q3     What distinguishes descriptive statistics from other types of statistics?\n",
    "\n",
    "Answer  : collecting organizing and summerizing data is the main thing in descriptive stat. it basiscally focusses on sample & population "
   ]
  },
  {
   "cell_type": "code",
   "execution_count": null,
   "id": "987c63d0",
   "metadata": {},
   "outputs": [],
   "source": []
  },
  {
   "cell_type": "raw",
   "id": "6e0701f4",
   "metadata": {},
   "source": [
    "Q4     What is the difference between quantitative and qualitative data?\n",
    "Answer   : Quantitative means measurment in numbers ex - 2 kg wight , 100 kms, 5 cm hight.\n",
    "           Qualitative means categorical things ex- whether person is married or not.\n",
    "    "
   ]
  },
  {
   "cell_type": "code",
   "execution_count": null,
   "id": "3396fc75",
   "metadata": {},
   "outputs": [],
   "source": []
  },
  {
   "cell_type": "code",
   "execution_count": null,
   "id": "f6553928",
   "metadata": {},
   "outputs": [],
   "source": [
    "Q5     What is the definition of a percentile?\n",
    "Answer:  A percentile is a value below which certain percentage of observation lie.          "
   ]
  }
 ],
 "metadata": {
  "kernelspec": {
   "display_name": "Python 3 (ipykernel)",
   "language": "python",
   "name": "python3"
  },
  "language_info": {
   "codemirror_mode": {
    "name": "ipython",
    "version": 3
   },
   "file_extension": ".py",
   "mimetype": "text/x-python",
   "name": "python",
   "nbconvert_exporter": "python",
   "pygments_lexer": "ipython3",
   "version": "3.8.12"
  },
  "toc": {
   "base_numbering": 1,
   "nav_menu": {},
   "number_sections": true,
   "sideBar": true,
   "skip_h1_title": false,
   "title_cell": "Table of Contents",
   "title_sidebar": "Contents",
   "toc_cell": false,
   "toc_position": {},
   "toc_section_display": true,
   "toc_window_display": false
  }
 },
 "nbformat": 4,
 "nbformat_minor": 5
}
